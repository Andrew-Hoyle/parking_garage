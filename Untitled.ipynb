{
 "cells": [
  {
   "cell_type": "code",
   "execution_count": null,
   "id": "fb922738",
   "metadata": {},
   "outputs": [
    {
     "name": "stdout",
     "output_type": "stream",
     "text": [
      "What would you like to do? (Enter, Pay, or Leave)enter\n",
      "These are the available parking spaces: [1, 2, 3, 4, 5, 6, 7, 8, 9, 10]\n",
      "What space number would you like to take? 4\n",
      "Thank you! Please proceed to space 4\n",
      "What would you like to do? (Enter, Pay, or Leave)enter\n",
      "These are the available parking spaces: [1, 2, 3, 5, 6, 7, 8, 9, 10]\n",
      "What space number would you like to take? 2\n",
      "Thank you! Please proceed to space 2\n",
      "What would you like to do? (Enter, Pay, or Leave)pay\n",
      "Which parking spot did you occupy? 4\n",
      "Your total for parking is $10, Please enter your payment. ($10)\n",
      "Enter payment: ($10) $10\n",
      "Thank you for your payment!\n",
      "What would you like to do? (Enter, Pay, or Leave)enter\n",
      "These are the available parking spaces: [1, 3, 4, 5, 6, 7, 8, 9, 10]\n",
      "What space number would you like to take? 4\n",
      "Thank you! Please proceed to space 4\n",
      "What would you like to do? (Enter, Pay, or Leave)pay\n",
      "Which parking spot did you occupy? 2\n",
      "Your total for parking is $10, Please enter your payment. ($10)\n",
      "Enter payment: ($10) $10\n",
      "Thank you for your payment!\n",
      "What would you like to do? (Enter, Pay, or Leave)enter\n",
      "These are the available parking spaces: [1, 2, 3, 5, 6, 7, 8, 9, 10]\n",
      "What space number would you like to take? 2\n",
      "Thank you! Please proceed to space 2\n",
      "What would you like to do? (Enter, Pay, or Leave)pay\n",
      "Which parking spot did you occupy? 4\n",
      "Your total for parking is $10, Please enter your payment. ($10)\n",
      "Enter payment: ($10) $10\n",
      "Thank you for your payment!\n",
      "What would you like to do? (Enter, Pay, or Leave)leave\n",
      "Thank you, have a nice day!\n"
     ]
    }
   ],
   "source": [
    "import parkingGarage\n",
    "\n"
   ]
  }
 ],
 "metadata": {
  "kernelspec": {
   "display_name": "Python 3",
   "language": "python",
   "name": "python3"
  },
  "language_info": {
   "codemirror_mode": {
    "name": "ipython",
    "version": 3
   },
   "file_extension": ".py",
   "mimetype": "text/x-python",
   "name": "python",
   "nbconvert_exporter": "python",
   "pygments_lexer": "ipython3",
   "version": "3.8.8"
  }
 },
 "nbformat": 4,
 "nbformat_minor": 5
}
